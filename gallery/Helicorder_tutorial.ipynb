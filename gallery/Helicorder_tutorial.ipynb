{
 "cells": [
  {
   "metadata": {},
   "cell_type": "markdown",
   "source": [
    "# Helicorders\n",
    "The vdapseisutils Helicorder object takes advantage of ObsPy's dayplot for the basic plotting routines. However, it adds functionality:\n",
    "- more customization\n",
    "- plotting catalogs and \"tags\" (and customizing those markers)\n",
    "- more control over time tick labels and timezones\n",
    "\n",
    "Examples below show the default behavior as well as advanced behavior"
   ],
   "id": "43c0fa128868a0f"
  },
  {
   "metadata": {
    "ExecuteTime": {
     "end_time": "2025-02-05T20:30:47.108327Z",
     "start_time": "2025-02-05T20:30:46.102435Z"
    }
   },
   "cell_type": "code",
   "source": [
    "import matplotlib.pyplot as plt\n",
    "from obspy.clients.fdsn import Client\n",
    "from obspy import UTCDateTime\n",
    "# from vdapseisutils import Helicorder\n",
    "from vdapseisutils.core.swarmmpl.heli import Helicorder\n",
    "from vdapseisutils.style.colors import greyscale_hex, swarm_colors_hex"
   ],
   "id": "e52815889c04625e",
   "outputs": [],
   "execution_count": 1
  },
  {
   "metadata": {},
   "cell_type": "markdown",
   "source": "## Default behavior (Gareloi, Alaska)",
   "id": "78a1b6e4b513ae6"
  },
  {
   "metadata": {},
   "cell_type": "code",
   "outputs": [],
   "execution_count": null,
   "source": "",
   "id": "d1ed2ec1669fa63b"
  }
 ],
 "metadata": {
  "kernelspec": {
   "display_name": "Python 3",
   "language": "python",
   "name": "python3"
  },
  "language_info": {
   "codemirror_mode": {
    "name": "ipython",
    "version": 2
   },
   "file_extension": ".py",
   "mimetype": "text/x-python",
   "name": "python",
   "nbconvert_exporter": "python",
   "pygments_lexer": "ipython2",
   "version": "2.7.6"
  }
 },
 "nbformat": 4,
 "nbformat_minor": 5
}
