{
 "cells": [
  {
   "metadata": {},
   "cell_type": "markdown",
   "source": [
    "# SwarmMPL Clipboard Tutorial: 2) Annotations\n",
    "\n",
    "Clipboard makes it easy to add annotations to waveforms and spectrograms. Use Clipboard's axvline() to add a red vertical line across all axes at a given timestamp. Timestamps can be passed in any format undertsood by ObsPy's UTCDateTime."
   ],
   "id": "7ea863964b1618a7"
  },
  {
   "metadata": {},
   "cell_type": "code",
   "source": [
    "import matplotlib.pyplot as plt\n",
    "from obspy import read, UTCDateTime\n",
    "from vdapseisutils.sandbox.swarmmpl.clipboard import Clipboard\n",
    "from vdapseisutils.sandbox.swarmmpl import colors as vdap_colors"
   ],
   "id": "47a505f2a5591842",
   "outputs": [],
   "execution_count": null
  },
  {
   "metadata": {},
   "cell_type": "markdown",
   "source": [
    "## Annotations - Basic Usage\n",
    "### Low Frequency Earthquakes at Gareloi Volcano, Alaska\n",
    "\n",
    "Pass any arguments undertsood by Matplotlib's axes axvline() method."
   ],
   "id": "337646d358b613c0"
  },
  {
   "metadata": {},
   "cell_type": "code",
   "source": [
    "suptitle = \"Gareloi: Low Frequency Earthquakes\"\n",
    "\n",
    "st = read(\"../data/waveforms/gareloi_test_data_20220710-010000.mseed\")\n",
    "st = st.slice(UTCDateTime(\"2022/07/10 01:30:00\"), UTCDateTime(\"2022/07/10 01:39:59.999\"))\n",
    "st.filter(\"bandpass\", freqmin=1.0, freqmax=10.0)\n",
    "print(st)\n",
    "\n",
    "fig = Clipboard(st, mode=\"wg\")\n",
    "fig.set_spectrogram(overlap=0.86, cmap=vdap_colors.viridis_u)\n",
    "fig.set_wave(color=\"k\")  # Default behavior\n",
    "fig.plot()\n",
    "fig.axvline(\"2022/07/10 01:30:15\")  # Next add vertical axis spans\n",
    "fig.axvline([\"2022/07/10 01:32:08\", \"2022/07/10 01:33:52\", \"2022/07/10 01:34:54\",\n",
    "                 \"2022/07/10 01:36:26\", \"2022/07/10 01:37:59\", \"2022/07/10 01:39:48\"], color=\"red\")  # Add more vertical axis spans\n",
    "fig.set_alim([-1000, 1000])\n",
    "fig.set_flim([0.1, 10.0])\n",
    "fig.suptitle(suptitle)\n",
    "plt.show()  # show the plot"
   ],
   "id": "71b3230f80f0e2f5",
   "outputs": [],
   "execution_count": null
  },
  {
   "metadata": {},
   "cell_type": "code",
   "source": "",
   "id": "a8feebe739d76b47",
   "outputs": [],
   "execution_count": null
  }
 ],
 "metadata": {
  "kernelspec": {
   "display_name": "Python 3",
   "language": "python",
   "name": "python3"
  },
  "language_info": {
   "codemirror_mode": {
    "name": "ipython",
    "version": 2
   },
   "file_extension": ".py",
   "mimetype": "text/x-python",
   "name": "python",
   "nbconvert_exporter": "python",
   "pygments_lexer": "ipython2",
   "version": "2.7.6"
  }
 },
 "nbformat": 4,
 "nbformat_minor": 5
}
