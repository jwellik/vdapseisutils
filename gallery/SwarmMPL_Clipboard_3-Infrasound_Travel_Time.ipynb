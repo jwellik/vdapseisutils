{
 "cells": [
  {
   "metadata": {},
   "cell_type": "markdown",
   "source": [
    "# SwarmMPL Clipboard Tutorial: 3) Infrasound travel time\n",
    "\n",
    "Seismic waves and infrasoud waves travel at different velocities. It is often necessary to align seismic traces with infrasound traces. Clipboard can do this math for you and align traces. It can do reading station location information stored in the stream object or by passing a distance offset and velocities for the different waves."
   ],
   "id": "7ea863964b1618a7"
  },
  {
   "metadata": {},
   "cell_type": "markdown",
   "source": "Example pending...",
   "id": "fb110bc4f6eee5c4"
  },
  {
   "metadata": {
    "ExecuteTime": {
     "end_time": "2024-10-15T00:09:14.171908Z",
     "start_time": "2024-10-15T00:09:14.169588Z"
    }
   },
   "cell_type": "code",
   "source": "",
   "id": "b4dd83e0ff3c5a53",
   "outputs": [],
   "execution_count": null
  }
 ],
 "metadata": {
  "kernelspec": {
   "display_name": "Python 3",
   "language": "python",
   "name": "python3"
  },
  "language_info": {
   "codemirror_mode": {
    "name": "ipython",
    "version": 2
   },
   "file_extension": ".py",
   "mimetype": "text/x-python",
   "name": "python",
   "nbconvert_exporter": "python",
   "pygments_lexer": "ipython2",
   "version": "2.7.6"
  }
 },
 "nbformat": 4,
 "nbformat_minor": 5
}
