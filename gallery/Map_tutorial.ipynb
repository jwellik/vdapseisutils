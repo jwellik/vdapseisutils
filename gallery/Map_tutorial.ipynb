{
 "cells": [
  {
   "metadata": {},
   "cell_type": "markdown",
   "source": "# Maps",
   "id": "6e07fbe4768342b"
  },
  {
   "metadata": {
    "jupyter": {
     "is_executing": true
    }
   },
   "cell_type": "code",
   "source": [
    "import obspy\n",
    "from obspy import UTCDateTime\n",
    "import matplotlib.pyplot as plt\n",
    "from vdapseisutils.sandbox.maps.maps import Map, CrossSection, TimeSeries, VolcanoFigure\n",
    "%matplotlib inline\n",
    "\n",
    "radial_extent = 10  # kilometers\n",
    "maxdepth = 20  # kilometers\n",
    "\n",
    "hood = dict()\n",
    "hood[\"coords\"] = [45.374, -121.695, 3426]\n",
    "hood[\"name\"] = \"Hood/Wy'East\"\n",
    "cat_hood_msas = obspy.read_events(\"../data/catalog_hood_msas.xml\", format=\"QUAKEML\")\n"
   ],
   "id": "87556955c7b0c5d8",
   "outputs": [],
   "execution_count": null
  },
  {
   "metadata": {
    "jupyter": {
     "is_executing": true
    }
   },
   "cell_type": "code",
   "source": [
    "print(\"Make plots using VolcanoFigure: Mt Hood\")\n",
    "\n",
    "volc = hood\n",
    "cat = cat_hood_msas\n",
    "\n",
    "fig2 = plt.figure(figsize=(8, 8), dpi=300)  # width, height\n",
    "fig2 = VolcanoFigure(fig=fig2, origin=(volc[\"coords\"][0], volc[\"coords\"][1]), depth_extent=(-5, 4), radial_extent_km=5.0, ts_axis_type=\"magnitude\")\n",
    "fig2.plot_catalog(cat, s=\"magnitude\")\n",
    "fig2.title(\"Mount Hood / Wy'East, Oregon\")\n",
    "fig2.catalog_subtitle(cat)\n",
    "fig2.magnitude_legend(cat)\n",
    "fig2.reftext(\"Jay Wellik (Volcano Disaster Assistance Program)\")\n",
    "fig2.savefig(\"./output/Mapping_tutorial/VolcanoFigure_Hood.png\")\n",
    "plt.show()\n"
   ],
   "id": "bc40c62081460a6c",
   "outputs": [],
   "execution_count": null
  },
  {
   "metadata": {},
   "cell_type": "code",
   "source": "",
   "id": "f7c64be063996973",
   "outputs": [],
   "execution_count": 2
  }
 ],
 "metadata": {
  "kernelspec": {
   "display_name": "Python 3",
   "language": "python",
   "name": "python3"
  },
  "language_info": {
   "codemirror_mode": {
    "name": "ipython",
    "version": 2
   },
   "file_extension": ".py",
   "mimetype": "text/x-python",
   "name": "python",
   "nbconvert_exporter": "python",
   "pygments_lexer": "ipython2",
   "version": "2.7.6"
  }
 },
 "nbformat": 4,
 "nbformat_minor": 5
}
